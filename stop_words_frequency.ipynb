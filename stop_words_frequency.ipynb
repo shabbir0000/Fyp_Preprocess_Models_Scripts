{
 "cells": [
  {
   "cell_type": "code",
   "execution_count": 2,
   "id": "5c431c1d",
   "metadata": {},
   "outputs": [
    {
     "name": "stdout",
     "output_type": "stream",
     "text": [
      "Stop word frequencies have been saved to stop_word_frequencies.xlsx\n"
     ]
    }
   ],
   "source": [
    "import pandas as pd\n",
    "\n",
    "# Define the path to your cleaned stop words file\n",
    "stop_words_file_path = \"stop_words_cleaned.txt\"\n",
    "\n",
    "# Read the cleaned stop words from the file\n",
    "stop_words = []\n",
    "with open(stop_words_file_path, \"r\", encoding=\"utf-8\") as stop_words_file:\n",
    "    stop_words = [line.strip() for line in stop_words_file]\n",
    "\n",
    "# Define the path to your Excel dataset\n",
    "dataset_file_path = \"no-char-no-num.xlsx\"  # Replace with the path to your Excel file\n",
    "\n",
    "# Load the dataset from Excel into a DataFrame\n",
    "df = pd.read_excel(dataset_file_path)\n",
    "\n",
    "# Create a DataFrame to store stop word frequencies\n",
    "stop_word_frequencies = {\"Stop Word\": [], \"Frequency\": []}\n",
    "\n",
    "# Iterate through rows in the dataset and count stop word frequencies\n",
    "for index, row in df.iterrows():\n",
    "    for column in df.columns:\n",
    "        text = str(row[column])\n",
    "        tokens = text.split()\n",
    "        for token in tokens:\n",
    "            if token in stop_words:\n",
    "                if token in stop_word_frequencies[\"Stop Word\"]:\n",
    "                    idx = stop_word_frequencies[\"Stop Word\"].index(token)\n",
    "                    stop_word_frequencies[\"Frequency\"][idx] += 1\n",
    "                else:\n",
    "                    stop_word_frequencies[\"Stop Word\"].append(token)\n",
    "                    stop_word_frequencies[\"Frequency\"].append(1)\n",
    "\n",
    "# Create a DataFrame from the stop word frequencies\n",
    "stop_word_df = pd.DataFrame(stop_word_frequencies)\n",
    "\n",
    "# Save the result to a new Excel file\n",
    "result_file_path = \"stop_word_frequencies.xlsx\"\n",
    "stop_word_df.to_excel(result_file_path, index=False)\n",
    "\n",
    "print(f\"Stop word frequencies have been saved to {result_file_path}\")\n"
   ]
  },
  {
   "cell_type": "code",
   "execution_count": null,
   "id": "9d0d1862",
   "metadata": {},
   "outputs": [],
   "source": []
  }
 ],
 "metadata": {
  "kernelspec": {
   "display_name": "Python 3 (ipykernel)",
   "language": "python",
   "name": "python3"
  },
  "language_info": {
   "codemirror_mode": {
    "name": "ipython",
    "version": 3
   },
   "file_extension": ".py",
   "mimetype": "text/x-python",
   "name": "python",
   "nbconvert_exporter": "python",
   "pygments_lexer": "ipython3",
   "version": "3.11.5"
  }
 },
 "nbformat": 4,
 "nbformat_minor": 5
}
