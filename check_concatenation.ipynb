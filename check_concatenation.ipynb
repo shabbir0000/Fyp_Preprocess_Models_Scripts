{
 "cells": [
  {
   "cell_type": "code",
   "execution_count": 3,
   "id": "68089c1b",
   "metadata": {},
   "outputs": [
    {
     "name": "stdout",
     "output_type": "stream",
     "text": [
      "Concatenated data saved to concatenated_data.xlsx.\n"
     ]
    }
   ],
   "source": [
    "import pandas as pd\n",
    "\n",
    "# Load your dataset from an Excel file (replace 'your_dataset.xlsx' with your file path)\n",
    "data_df = pd.read_excel('full_merged_file.xlsx')\n",
    "\n",
    "# Concatenate the relevant columns into a new column 'concatenated_text'\n",
    "data_df['concatenated_text'] = data_df['Category'] + ' ' + data_df['Title'] + ' ' + data_df['Description']\n",
    "\n",
    "# Save the concatenated data to a new Excel sheet (replace 'concatenated_data.xlsx' with your desired file name)\n",
    "output_path = 'concatenated_data.xlsx'\n",
    "data_df[['concatenated_text']].to_excel(output_path, index=False)\n",
    "\n",
    "print(f\"Concatenated data saved to {output_path}.\")"
   ]
  },
  {
   "cell_type": "code",
   "execution_count": null,
   "id": "fda8e0da",
   "metadata": {},
   "outputs": [],
   "source": []
  }
 ],
 "metadata": {
  "kernelspec": {
   "display_name": "Python 3 (ipykernel)",
   "language": "python",
   "name": "python3"
  },
  "language_info": {
   "codemirror_mode": {
    "name": "ipython",
    "version": 3
   },
   "file_extension": ".py",
   "mimetype": "text/x-python",
   "name": "python",
   "nbconvert_exporter": "python",
   "pygments_lexer": "ipython3",
   "version": "3.9.13"
  }
 },
 "nbformat": 4,
 "nbformat_minor": 5
}
